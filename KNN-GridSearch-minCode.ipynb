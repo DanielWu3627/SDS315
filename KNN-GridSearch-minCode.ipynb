{
 "cells": [
  {
   "cell_type": "markdown",
   "id": "82f608ca-96c5-44fe-9b5d-40f03b02feb9",
   "metadata": {},
   "source": [
    "# K-Nearest Neighbors Classification\n",
    "\n",
    "This is a user-friendly Jupyter Notebook version of KNN classifier. It allows users to:\n",
    "\n",
    "- Upload a dataset\n",
    "- Perform grid search for the best k with LOOCV\n",
    "- View classification results (accuracy, sensitivity, specificity)\n",
    "- Visualize the confusion matrix for the entire dataset\n",
    "- Visualize score report for each sample    \n"
   ]
  },
  {
   "cell_type": "markdown",
   "id": "18962687-0b97-4510-834c-97f2ae2fc109",
   "metadata": {},
   "source": [
    "## Import Libraries"
   ]
  },
  {
   "cell_type": "code",
   "execution_count": 1,
   "id": "4114937f-50ce-4fab-a412-a603fe62d06a",
   "metadata": {},
   "outputs": [],
   "source": [
    "import knn_utils as knn\n",
    "import ipywidgets as widgets\n",
    "from IPython.display import display, clear_output, HTML\n",
    "import io\n",
    "import pandas as pd"
   ]
  },
  {
   "cell_type": "markdown",
   "id": "2af99286-8da1-4ac6-add0-0b3c4e25ff0a",
   "metadata": {},
   "source": [
    "## Interactive UI\n",
    "* Click the \"Upload File\" button and choose the input .csv file.\n",
    "* Use the buttons below to run KNN with different grid search strategies:\n",
    "    * Grid Search (default)\n",
    "Selects the best number of neighbors (K) using Leave-One-Out Cross-Validation based on mean accuracy.\n",
    "Recommended for general classification tasks.\n",
    "    * Grid Search (ROC)\n",
    "Selects the best K based on mean AUC (Area Under the ROC Curve) across LOOCV folds.\n",
    "Recommended when your goal is to optimize ROC performance, especially with imbalanced or multiclass datasets.\n",
    "\n",
    "\n",
    "After the best K is selected, a final KNN model will be trained and evaluated on the full dataset."
   ]
  },
  {
   "cell_type": "code",
   "execution_count": 3,
   "id": "4dea6db9-a35f-437a-803c-efef807fe88b",
   "metadata": {},
   "outputs": [
    {
     "data": {
      "text/html": [
       "<b>Upload CSV File</b>"
      ],
      "text/plain": [
       "<IPython.core.display.HTML object>"
      ]
     },
     "metadata": {},
     "output_type": "display_data"
    },
    {
     "data": {
      "application/vnd.jupyter.widget-view+json": {
       "model_id": "5227ee3ba2d541d1824588262fd1925f",
       "version_major": 2,
       "version_minor": 0
      },
      "text/plain": [
       "FileUpload(value=(), accept='.csv', description='Upload File')"
      ]
     },
     "metadata": {},
     "output_type": "display_data"
    },
    {
     "data": {
      "application/vnd.jupyter.widget-view+json": {
       "model_id": "8dde40c27821439e9eac4cc2c4b7920f",
       "version_major": 2,
       "version_minor": 0
      },
      "text/plain": [
       "HBox(children=(Button(button_style='success', description='Grid Search (default)', style=ButtonStyle()), Butto…"
      ]
     },
     "metadata": {},
     "output_type": "display_data"
    },
    {
     "data": {
      "application/vnd.jupyter.widget-view+json": {
       "model_id": "e42353fd3c96424baf7db00d88643917",
       "version_major": 2,
       "version_minor": 0
      },
      "text/plain": [
       "Output()"
      ]
     },
     "metadata": {},
     "output_type": "display_data"
    }
   ],
   "source": [
    "# File upload and run button\n",
    "uploader = widgets.FileUpload(accept='.csv', multiple=False, description=\"Upload File\")\n",
    "run_button = widgets.Button(description='Run KNN', button_style='success')\n",
    "output = widgets.Output()\n",
    "\n",
    "# Run button\n",
    "accuracy_button = widgets.Button(description='Grid Search (default)', button_style='success')\n",
    "roc_button = widgets.Button(description='Grid Search (ROC)', button_style='info')\n",
    "\n",
    "def get_file_content():\n",
    "    global X, y, file_name\n",
    "    if not uploader.value:\n",
    "        print(\"⚠️ No file uploaded. Please choose the input file and re-run the code above.\") \n",
    "        return False\n",
    "    else:\n",
    "        value = uploader.value\n",
    "        # Handle multiple possible structures: dict, tuple, list\n",
    "        if isinstance(value, dict):\n",
    "            uploaded_file = list(value.values())[0]\n",
    "        elif isinstance(value, (list, tuple)):\n",
    "            uploaded_file = value[0]\n",
    "        else:\n",
    "            print(\"Unsupported uploader value format.\")\n",
    "            \n",
    "        content = uploaded_file['content']                # Binary content of the file\n",
    "        file_name = uploaded_file['name']        \n",
    "        \n",
    "        data = pd.read_csv(io.BytesIO(content))     # Read into a DataFrame from memory buffer\n",
    "        X = data.drop(columns=['NAME', 'CLASS'])    # Use all columns except 'NAME' and 'CLASS' as features        \n",
    "        y = data['CLASS']                           # Use 'CLASS' as the target label\n",
    "        return True\n",
    "\n",
    "def on_accuracy_clicked(b):  \n",
    "    with output:\n",
    "        output.clear_output() \n",
    "        if get_file_content():\n",
    "            knn.run_grid_accuracy(X, y, metric=\"euclidean\", weights=\"one\", file = file_name)\n",
    "        \n",
    "def on_roc_clicked(b):\n",
    "    with output:\n",
    "        output.clear_output() \n",
    "        if get_file_content():\n",
    "            knn.run_grid_roc(X, y, metric=\"euclidean\", weights=\"one\", file = file_name) \n",
    "\n",
    "#with output:  # All printed output will appear inside the 'output' widget\n",
    "#    output.clear_output()  # Clear previous output\n",
    "\n",
    "accuracy_button.on_click(on_accuracy_clicked)\n",
    "roc_button.on_click(on_roc_clicked)\n",
    "\n",
    "# === Final Output Display ===\n",
    "display(HTML(\"<b>Upload CSV File</b>\")) \n",
    "\n",
    "display(\n",
    "    uploader,\n",
    "    widgets.HBox([accuracy_button, roc_button]),\n",
    "    output\n",
    ")"
   ]
  },
  {
   "cell_type": "markdown",
   "id": "a08ac718-319a-4406-866b-3be98e0c352a",
   "metadata": {},
   "source": [
    "####  Run the cell below to plot confusion matrix heatmaps for the entire dataset."
   ]
  },
  {
   "cell_type": "code",
   "execution_count": null,
   "id": "3f157a44-7193-4bca-94cb-bfc6ae9a3801",
   "metadata": {},
   "outputs": [],
   "source": [
    "knn.plot_confusion_matrix_heatmap_with_metrics(\"\\nOverall Confusion Matrix\\n\")  "
   ]
  },
  {
   "cell_type": "markdown",
   "id": "ca6fa5be-5b33-4822-b144-c841a87857c2",
   "metadata": {},
   "source": [
    "#### Run the code below to plot scores for each item in the entire dataset"
   ]
  },
  {
   "cell_type": "code",
   "execution_count": null,
   "id": "bb880b40-94a9-4d60-a612-ad492f2f22f7",
   "metadata": {},
   "outputs": [],
   "source": [
    "knn.plot_items_scores(\"All Data\")"
   ]
  }
 ],
 "metadata": {
  "kernelspec": {
   "display_name": "KNN_env",
   "language": "python",
   "name": "gc_env"
  },
  "language_info": {
   "codemirror_mode": {
    "name": "ipython",
    "version": 3
   },
   "file_extension": ".py",
   "mimetype": "text/x-python",
   "name": "python",
   "nbconvert_exporter": "python",
   "pygments_lexer": "ipython3",
   "version": "3.13.5"
  }
 },
 "nbformat": 4,
 "nbformat_minor": 5
}
