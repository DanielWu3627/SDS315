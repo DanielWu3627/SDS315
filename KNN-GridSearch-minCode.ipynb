{
 "cells": [
  {
   "cell_type": "markdown",
   "id": "82f608ca-96c5-44fe-9b5d-40f03b02feb9",
   "metadata": {},
   "source": [
    "# K-Nearest Neighbors Classification\n",
    "\n",
    "This is a user-friendly Jupyter Notebook version of KNN classifier. It allows users to:\n",
    "\n",
    "- Upload a dataset\n",
    "- Perform grid search for the best k with LOOCV\n",
    "- View classification results (accuracy, sensitivity, specificity)\n",
    "- Visualize the confusion matrix for the entire dataset\n",
    "- Visualize score report for each sample    \n"
   ]
  },
  {
   "cell_type": "markdown",
   "id": "18962687-0b97-4510-834c-97f2ae2fc109",
   "metadata": {},
   "source": [
    "## Import Libraries"
   ]
  },
  {
   "cell_type": "code",
   "execution_count": 1,
   "id": "4114937f-50ce-4fab-a412-a603fe62d06a",
   "metadata": {},
   "outputs": [],
   "source": [
    "import knn_utils as knn\n",
    "from IPython.display import display, HTML\n",
    "import ipywidgets as widgets"
   ]
  },
  {
   "cell_type": "markdown",
   "id": "2af99286-8da1-4ac6-add0-0b3c4e25ff0a",
   "metadata": {},
   "source": [
    "## Interactive UI\n",
    "* Click the \"Upload File\" button and choose the input .csv file.\n",
    "* Use the buttons below to run KNN with different grid search strategies:\n",
    "    * Grid Search (default)\n",
    "Selects the best number of neighbors (K) using Leave-One-Out Cross-Validation based on mean accuracy.\n",
    "Recommended for general classification tasks.\n",
    "    * Grid Search (ROC)\n",
    "Selects the best K based on mean AUC (Area Under the ROC Curve) across LOOCV folds.\n",
    "Recommended when your goal is to optimize ROC performance, especially with imbalanced or multiclass datasets.\n",
    "\n",
    "\n",
    "After the best K is selected, a final KNN model will be trained and evaluated on the full dataset."
   ]
  },
  {
   "cell_type": "code",
   "execution_count": 2,
   "id": "7b27b808-e1a8-428a-b7ae-8f04d067113d",
   "metadata": {},
   "outputs": [
    {
     "data": {
      "text/html": [
       "<b>Upload CSV File</b>"
      ],
      "text/plain": [
       "<IPython.core.display.HTML object>"
      ]
     },
     "metadata": {},
     "output_type": "display_data"
    },
    {
     "data": {
      "application/vnd.jupyter.widget-view+json": {
       "model_id": "29e295566c064c82b9ecc82fa669054f",
       "version_major": 2,
       "version_minor": 0
      },
      "text/plain": [
       "FileUpload(value=(), accept='.csv', description='Upload File')"
      ]
     },
     "metadata": {},
     "output_type": "display_data"
    },
    {
     "data": {
      "application/vnd.jupyter.widget-view+json": {
       "model_id": "70ba5b522de14ad6a751b7619acd5946",
       "version_major": 2,
       "version_minor": 0
      },
      "text/plain": [
       "HBox(children=(Button(button_style='success', description='Grid Search (default)', style=ButtonStyle()), Butto…"
      ]
     },
     "metadata": {},
     "output_type": "display_data"
    },
    {
     "data": {
      "application/vnd.jupyter.widget-view+json": {
       "model_id": "94455ffdd6da44bd90c05ea8c57a41a2",
       "version_major": 2,
       "version_minor": 0
      },
      "text/plain": [
       "Output()"
      ]
     },
     "metadata": {},
     "output_type": "display_data"
    }
   ],
   "source": [
    "# Create widgets\n",
    "uploader, accuracy_button, roc_button, output = knn.create_widgets_grid()\n",
    "\n",
    "# Bind button callbacks\n",
    "knn.bind_callbacks(accuracy_button, roc_button, uploader, output)\n",
    "\n",
    "# Display UI\n",
    "display(HTML(\"<b>Upload CSV File</b>\"))\n",
    "display(uploader, widgets.HBox([accuracy_button, roc_button]), output)\n"
   ]
  },
  {
   "cell_type": "markdown",
   "id": "a08ac718-319a-4406-866b-3be98e0c352a",
   "metadata": {},
   "source": [
    "####  Run the cell below to plot confusion matrix heatmaps for the entire dataset."
   ]
  },
  {
   "cell_type": "code",
   "execution_count": null,
   "id": "3f157a44-7193-4bca-94cb-bfc6ae9a3801",
   "metadata": {},
   "outputs": [],
   "source": [
    "knn.plot_confusion_matrix_heatmap_with_metrics(\"\\nOverall Confusion Matrix\\n\")  "
   ]
  },
  {
   "cell_type": "markdown",
   "id": "ca6fa5be-5b33-4822-b144-c841a87857c2",
   "metadata": {},
   "source": [
    "#### Run the code below to plot scores for each item in the entire dataset"
   ]
  },
  {
   "cell_type": "code",
   "execution_count": null,
   "id": "bb880b40-94a9-4d60-a612-ad492f2f22f7",
   "metadata": {},
   "outputs": [],
   "source": [
    "knn.plot_items_scores(\"All Data\")"
   ]
  }
 ],
 "metadata": {
  "kernelspec": {
   "display_name": "KNN_env",
   "language": "python",
   "name": "gc_env"
  },
  "language_info": {
   "codemirror_mode": {
    "name": "ipython",
    "version": 3
   },
   "file_extension": ".py",
   "mimetype": "text/x-python",
   "name": "python",
   "nbconvert_exporter": "python",
   "pygments_lexer": "ipython3",
   "version": "3.13.5"
  }
 },
 "nbformat": 4,
 "nbformat_minor": 5
}
