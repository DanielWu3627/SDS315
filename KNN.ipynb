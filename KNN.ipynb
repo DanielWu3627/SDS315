{
 "cells": [
  {
   "cell_type": "code",
   "execution_count": 18,
   "id": "688c0fa5-dc99-4e1b-b087-f5d2cfb7c6fc",
   "metadata": {},
   "outputs": [],
   "source": [
    "import numpy"
   ]
  },
  {
   "cell_type": "code",
   "execution_count": 19,
   "id": "df9cdd27-bdea-48c2-9166-bb0aa1a45c6f",
   "metadata": {},
   "outputs": [
    {
     "name": "stdout",
     "output_type": "stream",
     "text": [
      "Hello World\n",
      "\n"
     ]
    }
   ],
   "source": [
    "print (\"Hello World\\n\")"
   ]
  },
  {
   "cell_type": "code",
   "execution_count": 20,
   "id": "37ad8697-a29e-4d2d-92bb-137309ef32cc",
   "metadata": {},
   "outputs": [
    {
     "data": {
      "text/html": [
       "<b>Import File</b>"
      ],
      "text/plain": [
       "<IPython.core.display.HTML object>"
      ]
     },
     "metadata": {},
     "output_type": "display_data"
    },
    {
     "data": {
      "application/vnd.jupyter.widget-view+json": {
       "model_id": "e5525182505b40fd9b3fb414b160d9db",
       "version_major": 2,
       "version_minor": 0
      },
      "text/plain": [
       "FileUpload(value=(), accept='.csv', description='Upload')"
      ]
     },
     "metadata": {},
     "output_type": "display_data"
    }
   ],
   "source": [
    "from IPython.display import display, HTML\n",
    "import ipywidgets as widgets\n",
    "\n",
    "# Add custom HTML label\n",
    "display(HTML(\"<b>Import File</b>\"))\n",
    "\n",
    "# Create the file upload widget\n",
    "uploader = widgets.FileUpload(accept='.csv', multiple=False)\n",
    "\n",
    "# Display it\n",
    "display(uploader)"
   ]
  },
  {
   "cell_type": "code",
   "execution_count": 21,
   "id": "9dcd8a75-adf6-4ea9-8738-ac3bda028fe0",
   "metadata": {},
   "outputs": [
    {
     "data": {
      "application/vnd.jupyter.widget-view+json": {
       "model_id": "29e64f845b3d46e4956083860918b30a",
       "version_major": 2,
       "version_minor": 0
      },
      "text/plain": [
       "BoundedIntText(value=3, description='Please select the number of neighbors:', min=1, style=DescriptionStyle(de…"
      ]
     },
     "metadata": {},
     "output_type": "display_data"
    }
   ],
   "source": [
    "k_input = widgets.BoundedIntText(\n",
    "    value=3,\n",
    "    min=1,\n",
    "    max=100,\n",
    "    step=1,\n",
    "    description='Please select the number of neighbors:',\n",
    "    style={'description_width': 'initial'}\n",
    ")\n",
    "display()"
   ]
  },
  {
   "cell_type": "code",
   "execution_count": 24,
   "id": "b0a9cac5-b3fd-4d6d-9ae4-257d69729f74",
   "metadata": {},
   "outputs": [
    {
     "data": {
      "application/vnd.jupyter.widget-view+json": {
       "model_id": "29e64f845b3d46e4956083860918b30a",
       "version_major": 2,
       "version_minor": 0
      },
      "text/plain": [
       "BoundedIntText(value=3, description='Please select the number of neighbors:', min=1, style=DescriptionStyle(de…"
      ]
     },
     "metadata": {},
     "output_type": "display_data"
    },
    {
     "data": {
      "application/vnd.jupyter.widget-view+json": {
       "model_id": "cd5275996fd24e428cd086bc0601496e",
       "version_major": 2,
       "version_minor": 0
      },
      "text/plain": [
       "Dropdown(description='Distance Metric:', options=('euclidean', 'manhattan', 'chebyshev', 'minkowski'), style=D…"
      ]
     },
     "metadata": {},
     "output_type": "display_data"
    }
   ],
   "source": [
    "distance_dropdown = widgets.Dropdown(\n",
    "    options=['euclidean', 'manhattan', 'chebyshev', 'minkowski'],\n",
    "    value='euclidean',\n",
    "    description='Distance Metric:',\n",
    "    style={'description_width': 'initial'}\n",
    ")\n",
    "display(k_input, distance_dropdown)"
   ]
  },
  {
   "cell_type": "code",
   "execution_count": null,
   "id": "363177fc-dbd0-45c1-826e-1b55a24997dd",
   "metadata": {},
   "outputs": [],
   "source": []
  }
 ],
 "metadata": {
  "kernelspec": {
   "display_name": "Python 3 (ipykernel)",
   "language": "python",
   "name": "python3"
  },
  "language_info": {
   "codemirror_mode": {
    "name": "ipython",
    "version": 3
   },
   "file_extension": ".py",
   "mimetype": "text/x-python",
   "name": "python",
   "nbconvert_exporter": "python",
   "pygments_lexer": "ipython3",
   "version": "3.13.5"
  }
 },
 "nbformat": 4,
 "nbformat_minor": 5
}
