{
 "cells": [
  {
   "cell_type": "markdown",
   "id": "82f608ca-96c5-44fe-9b5d-40f03b02feb9",
   "metadata": {},
   "source": [
    "# K-Nearest Neighbors Classification\n",
    "\n",
    "This is a user-friendly Jupyter Notebook version of KNN classifier. It allows users to:\n",
    "\n",
    "- Upload a dataset\n",
    "- Choose parameters for K-Nearest Neighbors (KNN)\n",
    "- Select cross validation methods\n",
    "- View classification results (accuracy, sensitivity, specificity)\n",
    "- Visualize the confusion matrix for both training ans validation sets\n",
    "- Visualizw score report for each sample    \n"
   ]
  },
  {
   "cell_type": "markdown",
   "id": "18962687-0b97-4510-834c-97f2ae2fc109",
   "metadata": {},
   "source": [
    "## Import Libraries"
   ]
  },
  {
   "cell_type": "code",
   "execution_count": null,
   "id": "b199124c-f210-4a6d-b08e-1762c8e9a0a0",
   "metadata": {},
   "outputs": [],
   "source": [
    "import knn_utils as knn\n",
    "import ipywidgets as widgets\n",
    "from IPython.display import display, HTML"
   ]
  },
  {
   "cell_type": "markdown",
   "id": "35cb73e3-ddd7-4e73-aee7-e417f8f4d4e4",
   "metadata": {},
   "source": [
    "## Interactive UI\n",
    "* Click the \"Upload File\" button and choose the input .csv file.\n",
    "* Then choose parameters for KNN and cross-validation methods\n",
    "  1. Pick a value for K\n",
    "  2. Select a distance metric method\n",
    "  3. Choose a weight scheme on how the items in nearest neighbors are weighted\n",
    "  4. Choose a cross validation method (leave-one-out or K-fold). If K-fold is chosen, select the number of folds."
   ]
  },
  {
   "cell_type": "code",
   "execution_count": null,
   "id": "16c0f909-a44b-46b7-a34c-6ea7fc92aa00",
   "metadata": {},
   "outputs": [],
   "source": [
    "# widgets\n",
    "uploader, k_widget, metric_widget, weights_widget, cv_widget, fold_widget, cv_output, update_cv_ui = knn.create_widgets_ui()\n",
    "output = widgets.Output()\n",
    "run_button = widgets.Button(description='Run KNN', button_style='success')\n",
    "\n",
    "# bind logic\n",
    "knn.bind_run_button(run_button, uploader, k_widget, metric_widget, weights_widget, cv_widget, fold_widget, output, knn)\n",
    "\n",
    "# display\n",
    "display(HTML(\"<b>Import CSV File</b>\"))\n",
    "display(uploader, k_widget, metric_widget, weights_widget, cv_widget, cv_output, run_button, output)\n"
   ]
  },
  {
   "cell_type": "markdown",
   "id": "a08ac718-319a-4406-866b-3be98e0c352a",
   "metadata": {},
   "source": [
    "####  Run the cell below to plot confusion matrix heatmaps for training and validation datasets."
   ]
  },
  {
   "cell_type": "code",
   "execution_count": null,
   "id": "3f157a44-7193-4bca-94cb-bfc6ae9a3801",
   "metadata": {},
   "outputs": [],
   "source": [
    "knn.plot_confusion_matrix_heatmap_with_metrics(\"\\nTraining Confusion Matrix\\n\")  # Training confusion matrix\n",
    "knn.plot_confusion_matrix_heatmap_with_metrics(\"\\nValidation Confusion Matrix\\n\")  # Validation confusion matrix"
   ]
  },
  {
   "cell_type": "markdown",
   "id": "ca6fa5be-5b33-4822-b144-c841a87857c2",
   "metadata": {},
   "source": [
    "#### Run the code below to plot scores for each item in the training and validation datasets"
   ]
  },
  {
   "cell_type": "code",
   "execution_count": null,
   "id": "bb880b40-94a9-4d60-a612-ad492f2f22f7",
   "metadata": {},
   "outputs": [],
   "source": [
    "knn.plot_items_scores(\"Training\")\n",
    "knn.plot_items_scores(\"Validation\")    "
   ]
  }
 ],
 "metadata": {
  "kernelspec": {
   "display_name": "KNN_env",
   "language": "python",
   "name": "gc_env"
  },
  "language_info": {
   "codemirror_mode": {
    "name": "ipython",
    "version": 3
   },
   "file_extension": ".py",
   "mimetype": "text/x-python",
   "name": "python",
   "nbconvert_exporter": "python",
   "pygments_lexer": "ipython3",
   "version": "3.13.5"
  }
 },
 "nbformat": 4,
 "nbformat_minor": 5
}
