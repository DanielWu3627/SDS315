{
 "cells": [
  {
   "cell_type": "markdown",
   "id": "82f608ca-96c5-44fe-9b5d-40f03b02feb9",
   "metadata": {},
   "source": [
    "# K-Nearest Neighbors Classification\n",
    "\n",
    "This is a user-friendly Jupyter Notebook version of KNN classifier. It allows users to:\n",
    "\n",
    "- Upload a dataset\n",
    "- Choose parameters for K-Nearest Neighbors (KNN)\n",
    "- Select cross validation methods\n",
    "- View classification results (accuracy, sensitivity, specificity)\n",
    "- Visualize the confusion matrix for both training ans validation sets\n",
    "- Visualizw score report for each sample    \n"
   ]
  },
  {
   "cell_type": "markdown",
   "id": "18962687-0b97-4510-834c-97f2ae2fc109",
   "metadata": {},
   "source": [
    "## Import Libraries"
   ]
  },
  {
   "cell_type": "code",
   "execution_count": null,
   "id": "b199124c-f210-4a6d-b08e-1762c8e9a0a0",
   "metadata": {},
   "outputs": [],
   "source": [
    "import knn_utils as knn\n",
    "import pandas as pd  # For data manipulation and analysis\n",
    "import ipywidgets as widgets\n",
    "from IPython.display import display, clear_output, HTML\n",
    "import io  "
   ]
  },
  {
   "cell_type": "markdown",
   "id": "35cb73e3-ddd7-4e73-aee7-e417f8f4d4e4",
   "metadata": {},
   "source": [
    "## Interactive UI\n",
    "* Click the \"Upload File\" button and choose the input .csv file.\n",
    "* Then choose parameters for KNN and cross-validation methods\n",
    "  1. Pick a value for K\n",
    "  2. Select a distance metric method\n",
    "  3. Choose a weight scheme on how the items in nearest neighbors are weighted\n",
    "  4. Choose a cross validation method (leave-one-out or K-fold). If K-fold is chosen, select the number of folds."
   ]
  },
  {
   "cell_type": "code",
   "execution_count": null,
   "id": "4dea6db9-a35f-437a-803c-efef807fe88b",
   "metadata": {},
   "outputs": [],
   "source": [
    "# Input file widget\n",
    "uploader = widgets.FileUpload(accept='.csv', multiple=False, description=\"Upload File\")\n",
    "display(HTML(\"<b>Import CSV File</b>\"))\n",
    "display(uploader)\n",
    "\n",
    "# K (number of neighbors)\n",
    "k_widget = widgets.BoundedIntText(min=1, max=20, description='Number of nearest neighbors (K):', style={'description_width': 'initial'})\n",
    "\n",
    "# Distance metric selection (Dropdown)\n",
    "metric_widget = widgets.Dropdown(\n",
    "    options=['euclidean', 'manhattan', 'chebyshev'], description='Distance Metric:', style={'description_width': 'initial'})\n",
    "\n",
    "# Weight function selection (Dropdown)\n",
    "weights_widget = widgets.Dropdown(\n",
    "    options=['one', 'inverse', 'inversesquare'], description='Weight Function:', style={'description_width': 'initial'})\n",
    "\n",
    "# Dropdown to select cross-validation method\n",
    "cv_widget = widgets.Dropdown(\n",
    "    options=['Leave-One-Out', 'K-Fold'], description='Cross Validation Method:',style={'description_width': 'initial'})\n",
    "\n",
    "# Numeric input for number of folds (only relevant for K-Fold)\n",
    "fold_widget = widgets.BoundedIntText(\n",
    "    value=5, min=2, max=20, description='Number of folds:',style={'description_width': 'initial'})\n",
    "\n",
    "# Output area for dynamically showing/hiding fold input\n",
    "cv_output = widgets.Output()\n",
    "\n",
    "# Function to dynamically show fold input only if 'K-Fold' is selected\n",
    "def update_cv_ui(change):\n",
    "    with cv_output:\n",
    "        cv_output.clear_output()  # Clear previous output\n",
    "        if cv_widget.value == 'K-Fold':\n",
    "            display(fold_widget)  # Show fold input only if 'K-Fold' is selected\n",
    "cv_widget.observe(update_cv_ui, names='value') # update_cv_ui() is run when cv_widget value changes\n",
    "\n",
    "display(k_widget,\n",
    "        metric_widget,\n",
    "        weights_widget\n",
    ")\n",
    "# Display the CV dropdown menu\n",
    "display(cv_widget)\n",
    "display(cv_output)\n",
    "update_cv_ui(None)\n",
    "\n",
    "output = widgets.Output()\n",
    "\n",
    "def on_run_clicked(b):\n",
    "    with output:  # All printed output will appear inside the 'output' widget\n",
    "        global file_name, X, y\n",
    "        output.clear_output()  # Clear previous output\n",
    "        if not uploader.value:\n",
    "            print(\"⚠️ No file uploaded. Please choose the input file and re-run the code above.\") \n",
    "            return\n",
    "\n",
    "        # Read hyperparameters and CV settings from widgets\n",
    "        k = k_widget.value                          # Number of neighbors\n",
    "        metric = metric_widget.value                # Distance metric\n",
    "        weights = weights_widget.value              # Weighting method\n",
    "        cv_method = cv_widget.value                 # Cross-validation method\n",
    "        n = 1 if cv_method == 'Leave-One-Out' else fold_widget.value  # LOOCV if 1 split, K-fold if otherwise\n",
    "\n",
    "        value = uploader.value \n",
    "            \n",
    "        if isinstance(value, dict):\n",
    "            uploaded_file = list(value.values())[0]\n",
    "        elif isinstance(value, (list, tuple)):                \n",
    "            uploaded_file = value[0]\n",
    "        else:\n",
    "            print(\"❌ Unsupported uploader value format.\")\n",
    "                  \n",
    "        content = uploaded_file['content']                # Binary content of the file\n",
    "        file_name = uploaded_file['name']        \n",
    "         \n",
    "        data = pd.read_csv(io.BytesIO(content))     # Read into a DataFrame from memory buffer\n",
    "        X = data.drop(columns=['NAME', 'CLASS'])    # Use all columns except 'NAME' and 'CLASS' as features\n",
    "        y = data['CLASS']                           # Use 'CLASS' as the target label\n",
    "\n",
    "        knn.run_knn(X, y, k, metric, weights, n, file_name)\n",
    "\n",
    "# Run button\n",
    "run_button = widgets.Button(description='Run KNN', button_style='success')\n",
    "run_button.on_click(on_run_clicked)\n",
    "\n",
    "# === Final Output Display ===\n",
    "display(\n",
    "    run_button,\n",
    "    output\n",
    ")\n"
   ]
  },
  {
   "cell_type": "markdown",
   "id": "a08ac718-319a-4406-866b-3be98e0c352a",
   "metadata": {},
   "source": [
    "####  Run the cell below to plot confusion matrix heatmaps for training and validation datasets."
   ]
  },
  {
   "cell_type": "code",
   "execution_count": null,
   "id": "3f157a44-7193-4bca-94cb-bfc6ae9a3801",
   "metadata": {},
   "outputs": [],
   "source": [
    "knn.plot_confusion_matrix_heatmap_with_metrics(\"\\nTraining Confusion Matrix\\n\")  # Training confusion matrix\n",
    "knn.plot_confusion_matrix_heatmap_with_metrics(\"\\nValidation Confusion Matrix\\n\")  # Validation confusion matrix"
   ]
  },
  {
   "cell_type": "markdown",
   "id": "ca6fa5be-5b33-4822-b144-c841a87857c2",
   "metadata": {},
   "source": [
    "#### Run the code below to plot scores for each item in the training and validation datasets"
   ]
  },
  {
   "cell_type": "code",
   "execution_count": null,
   "id": "bb880b40-94a9-4d60-a612-ad492f2f22f7",
   "metadata": {},
   "outputs": [],
   "source": [
    "knn.plot_items_scores(\"Training\")\n",
    "knn.plot_items_scores(\"Validation\")    "
   ]
  }
 ],
 "metadata": {
  "kernelspec": {
   "display_name": "KNN_env",
   "language": "python",
   "name": "gc_env"
  },
  "language_info": {
   "codemirror_mode": {
    "name": "ipython",
    "version": 3
   },
   "file_extension": ".py",
   "mimetype": "text/x-python",
   "name": "python",
   "nbconvert_exporter": "python",
   "pygments_lexer": "ipython3",
   "version": "3.13.5"
  }
 },
 "nbformat": 4,
 "nbformat_minor": 5
}
